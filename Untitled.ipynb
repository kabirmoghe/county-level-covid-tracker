{
 "cells": [
  {
   "cell_type": "code",
   "execution_count": 3,
   "metadata": {},
   "outputs": [],
   "source": [
    "import pandas as pd\n",
    "import requests\n",
    "from bs4 import BeautifulSoup\n",
    "import io\n",
    "from io import StringIO\n",
    "import os\n",
    "import boto3\n",
    "from urllib.request import Request, urlopen"
   ]
  },
  {
   "cell_type": "code",
   "execution_count": 6,
   "metadata": {},
   "outputs": [],
   "source": [
    "    states = {\n",
    "        'District of Columbia': 'DC',\n",
    "        'Puerto Rico': 'PR',\n",
    "        'Alabama': 'AL',\n",
    "        'Montana': 'MT',\n",
    "        'Alaska': 'AK',\n",
    "        'Nebraska': 'NE',\n",
    "        'Arizona': 'AZ',\n",
    "        'Nevada': 'NV',\n",
    "        'Arkansas': 'AR',\n",
    "        'New Hampshire': 'NH',\n",
    "        'California': 'CA',\n",
    "        'New Jersey': 'NJ',\n",
    "        'Colorado': 'CO',\n",
    "        'New Mexico': 'NM',\n",
    "        'Connecticut': 'CT',\n",
    "        'New York': 'NY',\n",
    "        'Delaware': 'DE',\n",
    "        'North Carolina': 'NC',\n",
    "        'Florida': 'FL',\n",
    "        'North Dakota': 'ND',\n",
    "        'Georgia': 'GA',\n",
    "        'Ohio': 'OH',\n",
    "        'Hawaii': 'HI',\n",
    "        'Oklahoma': 'OK',\n",
    "        'Idaho': 'ID',\n",
    "        'Oregon': 'OR',\n",
    "        'Illinois': 'IL',\n",
    "        'Pennsylvania': 'PA',\n",
    "        'Indiana': 'IN',\n",
    "        'Rhode Island': 'RI',\n",
    "        'Iowa': 'IA',\n",
    "        'South Carolina': 'SC',\n",
    "        'Kansas': 'KS',\n",
    "        'South Dakota': 'SD',\n",
    "        'Kentucky': 'KY',\n",
    "        'Tennessee': 'TN',\n",
    "        'Louisiana': 'LA',\n",
    "        'Texas': 'TX',\n",
    "        'Maine': 'ME',\n",
    "        'Utah': 'UT',\n",
    "        'Maryland': 'MD',\n",
    "        'Vermont': 'VT',\n",
    "        'Massachusetts': 'MA',\n",
    "        'Virginia': 'VA',\n",
    "        'Michigan': 'MI',\n",
    "        'Washington': 'WA',\n",
    "        'Minnesota': 'MN',\n",
    "        'West Virginia': 'WV',\n",
    "        'Mississippi': 'MS',\n",
    "        'Wisconsin': 'WI',\n",
    "        'Missouri': 'MO',\n",
    "        'Wyoming': 'WY',\n",
    "    }\n",
    "    \n",
    "    mainContent = requests.get(\"https://www.aarp.org/health/healthy-living/info-2020/states-mask-mandates-coronavirus.html\")\n",
    "    \n",
    "    mask_html = BeautifulSoup(mainContent.text,'lxml')\n",
    "    \n",
    "    \n",
    "    ps = []\n",
    "\n",
    "    for paragraph in mask_html.find_all('p'):\n",
    "        ps.append(paragraph.text.strip())\n",
    "        \n",
    "    sps = []\n",
    "    \n",
    "    for span in mask_html.find_all('span'):\n",
    "    \n",
    "        txt = span.text.strip()\n",
    "    \n",
    "        if txt != '' and txt != '|':\n",
    "            sps.append(txt)\n",
    "\n",
    "    date_txt = [sp for sp in sps if 'Updated' in sp][0]\n",
    "        \n",
    "    date_updated = date_txt[5] + ' ' + date_txt[6] + ' ' + date_txt[7]\n",
    "\n",
    "    state_list = []\n",
    "\n",
    "    for heading in mask_html.find_all('h4'):\n",
    "        if len(state_list) == 52:\n",
    "            break\n",
    "        else:\n",
    "            state_list.append(heading.text.strip())\n",
    "    \n",
    "    st = pd.DataFrame(state_list, columns=['State'])\n",
    "    st['State'] = st['State'].map(states)\n",
    "\n",
    "    #md = pd.DataFrame(cm, columns = ['Statewide Mask Mandate (Updated {})'.format(date_updated)])\n",
    "    \n",
    "    loc = 0\n",
    "\n",
    "    for i in range(len(ps)):\n",
    "        if 'Here’s where each state stands on the use of face masks' in ps[i]:\n",
    "            loc = i+2\n",
    "        \n",
    "    newps = ps[loc:]\n",
    "\n",
    "    mask_info = pd.DataFrame([val for val in newps if len(val) >180 and 'you' not in val.lower()], columns = ['Mask Mandate Details as of {}'.format(date_updated)])\n",
    "            \n",
    "    mask_data = pd.concat([st, mask_info], axis = 1)"
   ]
  },
  {
   "cell_type": "code",
   "execution_count": 9,
   "metadata": {},
   "outputs": [
    {
     "data": {
      "text/plain": [
       "'d y  '"
      ]
     },
     "execution_count": 9,
     "metadata": {},
     "output_type": "execute_result"
    }
   ],
   "source": [
    "date_updated"
   ]
  },
  {
   "cell_type": "code",
   "execution_count": 10,
   "metadata": {},
   "outputs": [
    {
     "data": {
      "text/plain": [
       "'by Andy Markowitz, AARP, Updated September 16, 2021'"
      ]
     },
     "execution_count": 10,
     "metadata": {},
     "output_type": "execute_result"
    }
   ],
   "source": [
    "date_txt"
   ]
  },
  {
   "cell_type": "code",
   "execution_count": null,
   "metadata": {},
   "outputs": [],
   "source": []
  }
 ],
 "metadata": {
  "kernelspec": {
   "display_name": "Python 3",
   "language": "python",
   "name": "python3"
  },
  "language_info": {
   "codemirror_mode": {
    "name": "ipython",
    "version": 3
   },
   "file_extension": ".py",
   "mimetype": "text/x-python",
   "name": "python",
   "nbconvert_exporter": "python",
   "pygments_lexer": "ipython3",
   "version": "3.8.5"
  }
 },
 "nbformat": 4,
 "nbformat_minor": 4
}
